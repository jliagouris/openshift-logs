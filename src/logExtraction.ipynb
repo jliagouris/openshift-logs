{
 "cells": [
  {
   "cell_type": "code",
   "execution_count": 5,
   "outputs": [
    {
     "name": "stdout",
     "output_type": "stream",
     "text": [
      "12 entries found\n"
     ]
    }
   ],
   "source": [
    "from utils import *\n",
    "\n",
    "query = \"{cluster_log_level=\\\"infra-logs\\\", openshift_cluster=\\\"moc/smaug\\\"} |= \\\"error\\\"\"\n",
    "start = 1656087505\n",
    "end =   1656693223\n",
    "limit = \"5000\"\n",
    "\n",
    "x_scope_org_id = \"cluster-infra-logs\"\n",
    "token = \"Bearer sha256~TqeUySbwOedEGB7CzNLWGr4bnbIWK4GZk6mUrgGY0ek\"\n",
    "\n",
    "savedCnt = 0\n",
    "while start < end:\n",
    "    thisEnd = min(start + 5000, end)\n",
    "    data = fetch_loki_logs(token, x_scope_org_id, query, str(start), str(thisEnd), limit)\n",
    "    start = thisEnd\n",
    "    print(f\"{len(data)} entries found\")\n",
    "    for stream in data:\n",
    "        #log_json = json.loads(stream)\n",
    "        with open(\"../logs/error/\" + str(savedCnt) + '.json', 'w') as outfile:\n",
    "            json.dump(stream, outfile)\n",
    "        savedCnt += 1\n",
    "        if savedCnt > 10:\n",
    "            break\n",
    "        #print(data[0], file=open('output.txt','a'))\n",
    "    if savedCnt > 10:\n",
    "        break\n",
    "    '''\n",
    "    try:\n",
    "        data = fetch_loki_logs(token, x_scope_org_id, query, str(start), str(thisEnd), limit)\n",
    "        start = thisEnd\n",
    "        print(f\"{len(data)} entries found\")\n",
    "        for stream in data:\n",
    "            log_json = json.loads(stream)\n",
    "            with open(\"../logs/error/\" + str(savedCnt) + '.json', 'w') as outfile:\n",
    "                json.dump(data, outfile)\n",
    "            savedCnt += 1\n",
    "            if savedCnt > 10:\n",
    "                break\n",
    "           #print(data[0], file=open('output.txt','a'))\n",
    "        if savedCnt > 10:\n",
    "            break\n",
    "    except:\n",
    "        print(\"Error occured\")\n",
    "    '''"
   ],
   "metadata": {
    "collapsed": false,
    "pycharm": {
     "name": "#%%\n"
    }
   }
  },
  {
   "cell_type": "code",
   "execution_count": null,
   "outputs": [],
   "source": [],
   "metadata": {
    "collapsed": false,
    "pycharm": {
     "name": "#%%\n"
    }
   }
  }
 ],
 "metadata": {
  "language_info": {
   "name": "python"
  },
  "orig_nbformat": 4
 },
 "nbformat": 4,
 "nbformat_minor": 2
}