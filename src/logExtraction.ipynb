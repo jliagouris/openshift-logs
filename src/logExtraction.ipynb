{
 "cells": [
  {
   "cell_type": "code",
   "execution_count": 8,
   "metadata": {
    "collapsed": false,
    "pycharm": {
     "name": "#%%\n"
    }
   },
   "outputs": [
    {
     "name": "stdout",
     "output_type": "stream",
     "text": [
      "1 entries found\n",
      "1 entries found\n"
     ]
    }
   ],
   "source": [
    "from utils import *\n",
    "\n",
    "query = \"{cluster_log_level=\\\"infra-logs\\\", openshift_cluster=\\\"moc/smaug\\\", k8s_namespace_name=\\\"openshift-monitoring\\\"}\"\n",
    "start = 1656431459\n",
    "end =   1656439199\n",
    "limit = \"5000\"\n",
    "\n",
    "x_scope_org_id = \"cluster-infra-logs\"\n",
    "token = \"Bearer sha256~Qi3TYc2xbmaTY8rPQdVTTfhvUu5S0RbZuxX4FkIXEHc\"\n",
    "\n",
    "timeIntervalLen = 5000\n",
    "\n",
    "savedCnt = 0\n",
    "while start < end:\n",
    "    thisEnd = min(start + timeIntervalLen, end)\n",
    "    data = fetch_loki_logs(token, x_scope_org_id, query, str(start), str(thisEnd), limit)\n",
    "    start = thisEnd\n",
    "    print(f\"{len(data)} entries found\")\n",
    "    \n",
    "    for stream in data:\n",
    "        #log_json = json.loads(stream)\n",
    "        json_formatted_str = json.dumps(stream, indent=4)\n",
    "        with open(\"../logs/inspect_pick/\" + str(savedCnt) + '.json', 'w') as outfile:\n",
    "            outfile.write(json_formatted_str)\n",
    "        outfile.close()\n",
    "        savedCnt += 1\n",
    "        if savedCnt > 10:\n",
    "            break\n",
    "        #print(data[0], file=open('output.txt','a'))\n",
    "    if savedCnt > 10:\n",
    "        break\n",
    "    \n",
    "    '''\n",
    "    try:\n",
    "        data = fetch_loki_logs(token, x_scope_org_id, query, str(start), str(thisEnd), limit)\n",
    "        start = thisEnd\n",
    "        print(f\"{len(data)} entries found\")\n",
    "        for stream in data:\n",
    "            log_json = json.loads(stream)\n",
    "            with open(\"../logs/error/\" + str(savedCnt) + '.json', 'w') as outfile:\n",
    "                json.dump(data, outfile)\n",
    "            savedCnt += 1\n",
    "            if savedCnt > 10:\n",
    "                break\n",
    "           #print(data[0], file=open('output.txt','a'))\n",
    "        if savedCnt > 10:\n",
    "            break\n",
    "    except:\n",
    "        print(\"Error occured\")\n",
    "    '''"
   ]
  },
  {
   "cell_type": "code",
   "execution_count": null,
   "metadata": {
    "collapsed": false,
    "pycharm": {
     "name": "#%%\n"
    }
   },
   "outputs": [],
   "source": []
  }
 ],
 "metadata": {
  "kernelspec": {
   "display_name": "Python 3.8.10 64-bit",
   "language": "python",
   "name": "python3"
  },
  "language_info": {
   "codemirror_mode": {
    "name": "ipython",
    "version": 3
   },
   "file_extension": ".py",
   "mimetype": "text/x-python",
   "name": "python",
   "nbconvert_exporter": "python",
   "pygments_lexer": "ipython3",
   "version": "3.8.10"
  },
  "orig_nbformat": 4,
  "vscode": {
   "interpreter": {
    "hash": "916dbcbb3f70747c44a77c7bcd40155683ae19c65e1c03b4aa3499c5328201f1"
   }
  }
 },
 "nbformat": 4,
 "nbformat_minor": 2
}